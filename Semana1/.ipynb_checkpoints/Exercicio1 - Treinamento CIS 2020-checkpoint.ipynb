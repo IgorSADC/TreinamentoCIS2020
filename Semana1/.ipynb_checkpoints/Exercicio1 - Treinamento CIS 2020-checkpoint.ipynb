{
 "cells": [
  {
   "cell_type": "markdown",
   "metadata": {},
   "source": [
    "# Imports"
   ]
  },
  {
   "cell_type": "code",
   "execution_count": 1,
   "metadata": {},
   "outputs": [],
   "source": [
    "import pandas as pd\n",
    "import numpy as np\n",
    "import re\n",
    "import os\n",
    "from typing import Callable\n",
    "from functools import partial"
   ]
  },
  {
   "cell_type": "markdown",
   "metadata": {},
   "source": [
    "# Taking a look"
   ]
  },
  {
   "cell_type": "code",
   "execution_count": 2,
   "metadata": {},
   "outputs": [],
   "source": [
    "df = pd.read_csv('Data/googleplaystore.csv')"
   ]
  },
  {
   "cell_type": "code",
   "execution_count": 3,
   "metadata": {
    "scrolled": true
   },
   "outputs": [
    {
     "data": {
      "text/html": [
       "<div>\n",
       "<style scoped>\n",
       "    .dataframe tbody tr th:only-of-type {\n",
       "        vertical-align: middle;\n",
       "    }\n",
       "\n",
       "    .dataframe tbody tr th {\n",
       "        vertical-align: top;\n",
       "    }\n",
       "\n",
       "    .dataframe thead th {\n",
       "        text-align: right;\n",
       "    }\n",
       "</style>\n",
       "<table border=\"1\" class=\"dataframe\">\n",
       "  <thead>\n",
       "    <tr style=\"text-align: right;\">\n",
       "      <th></th>\n",
       "      <th>App</th>\n",
       "      <th>Category</th>\n",
       "      <th>Rating</th>\n",
       "      <th>Reviews</th>\n",
       "      <th>Size</th>\n",
       "      <th>Installs</th>\n",
       "      <th>Type</th>\n",
       "      <th>Price</th>\n",
       "      <th>Content Rating</th>\n",
       "      <th>Genres</th>\n",
       "      <th>Last Updated</th>\n",
       "      <th>Current Ver</th>\n",
       "      <th>Android Ver</th>\n",
       "    </tr>\n",
       "  </thead>\n",
       "  <tbody>\n",
       "    <tr>\n",
       "      <th>0</th>\n",
       "      <td>Photo Editor &amp; Candy Camera &amp; Grid &amp; ScrapBook</td>\n",
       "      <td>ART_AND_DESIGN</td>\n",
       "      <td>4.1</td>\n",
       "      <td>159</td>\n",
       "      <td>19M</td>\n",
       "      <td>10,000+</td>\n",
       "      <td>Free</td>\n",
       "      <td>0</td>\n",
       "      <td>Everyone</td>\n",
       "      <td>Art &amp; Design</td>\n",
       "      <td>January 7, 2018</td>\n",
       "      <td>1.0.0</td>\n",
       "      <td>4.0.3 and up</td>\n",
       "    </tr>\n",
       "    <tr>\n",
       "      <th>1</th>\n",
       "      <td>Coloring book moana</td>\n",
       "      <td>ART_AND_DESIGN</td>\n",
       "      <td>3.9</td>\n",
       "      <td>967</td>\n",
       "      <td>14M</td>\n",
       "      <td>500,000+</td>\n",
       "      <td>Free</td>\n",
       "      <td>0</td>\n",
       "      <td>Everyone</td>\n",
       "      <td>Art &amp; Design;Pretend Play</td>\n",
       "      <td>January 15, 2018</td>\n",
       "      <td>2.0.0</td>\n",
       "      <td>4.0.3 and up</td>\n",
       "    </tr>\n",
       "    <tr>\n",
       "      <th>2</th>\n",
       "      <td>U Launcher Lite – FREE Live Cool Themes, Hide ...</td>\n",
       "      <td>ART_AND_DESIGN</td>\n",
       "      <td>4.7</td>\n",
       "      <td>87510</td>\n",
       "      <td>8.7M</td>\n",
       "      <td>5,000,000+</td>\n",
       "      <td>Free</td>\n",
       "      <td>0</td>\n",
       "      <td>Everyone</td>\n",
       "      <td>Art &amp; Design</td>\n",
       "      <td>August 1, 2018</td>\n",
       "      <td>1.2.4</td>\n",
       "      <td>4.0.3 and up</td>\n",
       "    </tr>\n",
       "    <tr>\n",
       "      <th>3</th>\n",
       "      <td>Sketch - Draw &amp; Paint</td>\n",
       "      <td>ART_AND_DESIGN</td>\n",
       "      <td>4.5</td>\n",
       "      <td>215644</td>\n",
       "      <td>25M</td>\n",
       "      <td>50,000,000+</td>\n",
       "      <td>Free</td>\n",
       "      <td>0</td>\n",
       "      <td>Teen</td>\n",
       "      <td>Art &amp; Design</td>\n",
       "      <td>June 8, 2018</td>\n",
       "      <td>Varies with device</td>\n",
       "      <td>4.2 and up</td>\n",
       "    </tr>\n",
       "    <tr>\n",
       "      <th>4</th>\n",
       "      <td>Pixel Draw - Number Art Coloring Book</td>\n",
       "      <td>ART_AND_DESIGN</td>\n",
       "      <td>4.3</td>\n",
       "      <td>967</td>\n",
       "      <td>2.8M</td>\n",
       "      <td>100,000+</td>\n",
       "      <td>Free</td>\n",
       "      <td>0</td>\n",
       "      <td>Everyone</td>\n",
       "      <td>Art &amp; Design;Creativity</td>\n",
       "      <td>June 20, 2018</td>\n",
       "      <td>1.1</td>\n",
       "      <td>4.4 and up</td>\n",
       "    </tr>\n",
       "  </tbody>\n",
       "</table>\n",
       "</div>"
      ],
      "text/plain": [
       "                                                 App        Category  Rating  \\\n",
       "0     Photo Editor & Candy Camera & Grid & ScrapBook  ART_AND_DESIGN     4.1   \n",
       "1                                Coloring book moana  ART_AND_DESIGN     3.9   \n",
       "2  U Launcher Lite – FREE Live Cool Themes, Hide ...  ART_AND_DESIGN     4.7   \n",
       "3                              Sketch - Draw & Paint  ART_AND_DESIGN     4.5   \n",
       "4              Pixel Draw - Number Art Coloring Book  ART_AND_DESIGN     4.3   \n",
       "\n",
       "  Reviews  Size     Installs  Type Price Content Rating  \\\n",
       "0     159   19M      10,000+  Free     0       Everyone   \n",
       "1     967   14M     500,000+  Free     0       Everyone   \n",
       "2   87510  8.7M   5,000,000+  Free     0       Everyone   \n",
       "3  215644   25M  50,000,000+  Free     0           Teen   \n",
       "4     967  2.8M     100,000+  Free     0       Everyone   \n",
       "\n",
       "                      Genres      Last Updated         Current Ver  \\\n",
       "0               Art & Design   January 7, 2018               1.0.0   \n",
       "1  Art & Design;Pretend Play  January 15, 2018               2.0.0   \n",
       "2               Art & Design    August 1, 2018               1.2.4   \n",
       "3               Art & Design      June 8, 2018  Varies with device   \n",
       "4    Art & Design;Creativity     June 20, 2018                 1.1   \n",
       "\n",
       "    Android Ver  \n",
       "0  4.0.3 and up  \n",
       "1  4.0.3 and up  \n",
       "2  4.0.3 and up  \n",
       "3    4.2 and up  \n",
       "4    4.4 and up  "
      ]
     },
     "execution_count": 3,
     "metadata": {},
     "output_type": "execute_result"
    }
   ],
   "source": [
    "df.head()"
   ]
  },
  {
   "cell_type": "code",
   "execution_count": 4,
   "metadata": {},
   "outputs": [
    {
     "data": {
      "text/plain": [
       "(10841, 13)"
      ]
     },
     "execution_count": 4,
     "metadata": {},
     "output_type": "execute_result"
    }
   ],
   "source": [
    "df.shape"
   ]
  },
  {
   "cell_type": "markdown",
   "metadata": {},
   "source": [
    "## Finding null values:"
   ]
  },
  {
   "cell_type": "code",
   "execution_count": 5,
   "metadata": {},
   "outputs": [
    {
     "data": {
      "text/plain": [
       "['Rating', 'Type', 'Content Rating', 'Current Ver', 'Android Ver']"
      ]
     },
     "execution_count": 5,
     "metadata": {},
     "output_type": "execute_result"
    }
   ],
   "source": [
    "columns_with_null = [c for c in df.columns if df[c].isnull().values.any()]; columns_with_null"
   ]
  },
  {
   "cell_type": "code",
   "execution_count": 6,
   "metadata": {
    "scrolled": false
   },
   "outputs": [
    {
     "data": {
      "text/plain": [
       "{'Rating': 1474,\n",
       " 'Type': 1,\n",
       " 'Content Rating': 1,\n",
       " 'Current Ver': 8,\n",
       " 'Android Ver': 3}"
      ]
     },
     "execution_count": 6,
     "metadata": {},
     "output_type": "execute_result"
    }
   ],
   "source": [
    "d = {c : df[c].isnull().sum() for c in df.columns if df[c].isnull().values.any()}; d"
   ]
  },
  {
   "cell_type": "markdown",
   "metadata": {},
   "source": [
    "Podemos ver que os valores nulos podem ser removidos facilmente de todas as colunas com exceção de Rating, que possui muitos (embora ainda não seja muito significativo pelo tamanho do dataset)."
   ]
  },
  {
   "cell_type": "markdown",
   "metadata": {},
   "source": [
    "## Finding inconsistent values:"
   ]
  },
  {
   "cell_type": "code",
   "execution_count": 7,
   "metadata": {},
   "outputs": [],
   "source": [
    "def finding_inconsistency_by_threshold(df, column, min_thresh=0, max_thresh=None):\n",
    "    if(max_thresh == None): return [df[df[column].astype(float) < min_thresh]]\n",
    "    return pd.concat([df[df[column].astype(float) < min_thresh], df [df[column].astype(float) > max_thresh]], join='outer')"
   ]
  },
  {
   "cell_type": "code",
   "execution_count": 8,
   "metadata": {
    "scrolled": false
   },
   "outputs": [
    {
     "data": {
      "text/html": [
       "<div>\n",
       "<style scoped>\n",
       "    .dataframe tbody tr th:only-of-type {\n",
       "        vertical-align: middle;\n",
       "    }\n",
       "\n",
       "    .dataframe tbody tr th {\n",
       "        vertical-align: top;\n",
       "    }\n",
       "\n",
       "    .dataframe thead th {\n",
       "        text-align: right;\n",
       "    }\n",
       "</style>\n",
       "<table border=\"1\" class=\"dataframe\">\n",
       "  <thead>\n",
       "    <tr style=\"text-align: right;\">\n",
       "      <th></th>\n",
       "      <th>App</th>\n",
       "      <th>Category</th>\n",
       "      <th>Rating</th>\n",
       "      <th>Reviews</th>\n",
       "      <th>Size</th>\n",
       "      <th>Installs</th>\n",
       "      <th>Type</th>\n",
       "      <th>Price</th>\n",
       "      <th>Content Rating</th>\n",
       "      <th>Genres</th>\n",
       "      <th>Last Updated</th>\n",
       "      <th>Current Ver</th>\n",
       "      <th>Android Ver</th>\n",
       "    </tr>\n",
       "  </thead>\n",
       "  <tbody>\n",
       "    <tr>\n",
       "      <th>10472</th>\n",
       "      <td>Life Made WI-Fi Touchscreen Photo Frame</td>\n",
       "      <td>1.9</td>\n",
       "      <td>19.0</td>\n",
       "      <td>3.0M</td>\n",
       "      <td>1,000+</td>\n",
       "      <td>Free</td>\n",
       "      <td>0</td>\n",
       "      <td>Everyone</td>\n",
       "      <td>NaN</td>\n",
       "      <td>February 11, 2018</td>\n",
       "      <td>1.0.19</td>\n",
       "      <td>4.0 and up</td>\n",
       "      <td>NaN</td>\n",
       "    </tr>\n",
       "  </tbody>\n",
       "</table>\n",
       "</div>"
      ],
      "text/plain": [
       "                                           App Category  Rating Reviews  \\\n",
       "10472  Life Made WI-Fi Touchscreen Photo Frame      1.9    19.0    3.0M   \n",
       "\n",
       "         Size Installs Type     Price Content Rating             Genres  \\\n",
       "10472  1,000+     Free    0  Everyone            NaN  February 11, 2018   \n",
       "\n",
       "      Last Updated Current Ver Android Ver  \n",
       "10472       1.0.19  4.0 and up         NaN  "
      ]
     },
     "execution_count": 8,
     "metadata": {},
     "output_type": "execute_result"
    }
   ],
   "source": [
    "finding_inconsistency_by_threshold(df, 'Rating', 1, 5)"
   ]
  },
  {
   "cell_type": "markdown",
   "metadata": {},
   "source": [
    "Infelizmente todas as outras colunas numericas terão de ser tratadas para funconar como tal. Vamos fazer isso, então!"
   ]
  },
  {
   "cell_type": "markdown",
   "metadata": {},
   "source": [
    "### Converting to numeric"
   ]
  },
  {
   "cell_type": "markdown",
   "metadata": {},
   "source": [
    "#### Price"
   ]
  },
  {
   "cell_type": "code",
   "execution_count": 9,
   "metadata": {
    "scrolled": true
   },
   "outputs": [
    {
     "data": {
      "text/plain": [
       "(array(['$0.99', '$1.00', '$1.04', '$1.20', '$1.26', '$1.29', '$1.49',\n",
       "        '$1.50', '$1.59', '$1.61', '$1.70', '$1.75', '$1.76', '$1.96',\n",
       "        '$1.97', '$1.99', '$10.00', '$10.99', '$109.99', '$11.99',\n",
       "        '$12.99', '$13.99', '$14.00', '$14.99', '$15.46', '$15.99',\n",
       "        '$154.99', '$16.99', '$17.99', '$18.99', '$19.40', '$19.90',\n",
       "        '$19.99', '$2.00', '$2.49', '$2.50', '$2.56', '$2.59', '$2.60',\n",
       "        '$2.90', '$2.95', '$2.99', '$200.00', '$24.99', '$25.99', '$28.99',\n",
       "        '$29.99', '$299.99', '$3.02', '$3.04', '$3.08', '$3.28', '$3.49',\n",
       "        '$3.61', '$3.88', '$3.90', '$3.95', '$3.99', '$30.99', '$33.99',\n",
       "        '$37.99', '$379.99', '$389.99', '$39.99', '$394.99', '$399.99',\n",
       "        '$4.29', '$4.49', '$4.59', '$4.60', '$4.77', '$4.80', '$4.84',\n",
       "        '$4.85', '$4.99', '$400.00', '$46.99', '$5.00', '$5.49', '$5.99',\n",
       "        '$6.49', '$6.99', '$7.49', '$7.99', '$74.99', '$79.99', '$8.49',\n",
       "        '$8.99', '$89.99', '$9.00', '$9.99', '0', 'Everyone'], dtype=object),\n",
       " array([  148,     3,     1,     1,     1,     1,    46,     1,     1,\n",
       "            1,     2,     1,     1,     1,     1,    73,     3,     2,\n",
       "            1,     5,     5,     2,     1,    11,     1,     1,     1,\n",
       "            3,     2,     1,     1,     1,     6,     3,    26,     1,\n",
       "            1,     1,     1,     1,     1,   129,     1,     7,     1,\n",
       "            1,     7,     1,     1,     1,     1,     1,     7,     1,\n",
       "            1,     1,     2,    63,     1,     2,     1,     1,     1,\n",
       "            2,     1,    12,     1,     9,     1,     1,     1,     1,\n",
       "            1,     1,    72,     1,     1,     1,     6,    30,     5,\n",
       "           13,     2,     7,     1,     2,     2,     5,     1,     2,\n",
       "           21, 10040,     1], dtype=int64))"
      ]
     },
     "execution_count": 9,
     "metadata": {},
     "output_type": "execute_result"
    }
   ],
   "source": [
    "np.unique(df['Price'], return_counts=True)"
   ]
  },
  {
   "cell_type": "markdown",
   "metadata": {},
   "source": [
    "vamos ter um problema terrível com esse everyone, pois é um texto que não é facilmente convertido para float. Temos duas opções: ou excluimos esse registro ou mudamos ele para 0. Eu vou optar por excluir, pois não faço ideia do que ele significa. "
   ]
  },
  {
   "cell_type": "code",
   "execution_count": 10,
   "metadata": {},
   "outputs": [],
   "source": [
    "i_drop = df[df['Price'] == 'Everyone'].index"
   ]
  },
  {
   "cell_type": "code",
   "execution_count": 11,
   "metadata": {
    "scrolled": true
   },
   "outputs": [],
   "source": [
    "df = df.drop(i_drop)"
   ]
  },
  {
   "cell_type": "markdown",
   "metadata": {},
   "source": [
    "Podemos converter agora facilmente os numeros usando uma expressão regular: "
   ]
  },
  {
   "cell_type": "code",
   "execution_count": 12,
   "metadata": {},
   "outputs": [],
   "source": [
    "test_string = \"$4.9\""
   ]
  },
  {
   "cell_type": "code",
   "execution_count": 13,
   "metadata": {},
   "outputs": [],
   "source": [
    "g = re.search('\\$(\\d+.\\d+)', test_string)"
   ]
  },
  {
   "cell_type": "code",
   "execution_count": 14,
   "metadata": {},
   "outputs": [
    {
     "data": {
      "text/plain": [
       "'4.9'"
      ]
     },
     "execution_count": 14,
     "metadata": {},
     "output_type": "execute_result"
    }
   ],
   "source": [
    "g[1]"
   ]
  },
  {
   "cell_type": "markdown",
   "metadata": {},
   "source": [
    "Porém como o dataset possui numeros puros (0) não podemos passar essa expressão em tudo. Temos então que usar uma lógica mais complexa. Felizmente o pandas nos deixa passar uma função em cada linha de uma coluna usando a função apply()"
   ]
  },
  {
   "cell_type": "code",
   "execution_count": 15,
   "metadata": {
    "scrolled": true
   },
   "outputs": [],
   "source": [
    "df['Price'] = df['Price'].apply(lambda x : re.search('\\$(\\d+.\\d+)', x)[1] if re.search('\\$(\\d+.\\d+)', x) else x).astype(float)"
   ]
  },
  {
   "cell_type": "code",
   "execution_count": 16,
   "metadata": {
    "scrolled": false
   },
   "outputs": [
    {
     "data": {
      "text/html": [
       "<div>\n",
       "<style scoped>\n",
       "    .dataframe tbody tr th:only-of-type {\n",
       "        vertical-align: middle;\n",
       "    }\n",
       "\n",
       "    .dataframe tbody tr th {\n",
       "        vertical-align: top;\n",
       "    }\n",
       "\n",
       "    .dataframe thead th {\n",
       "        text-align: right;\n",
       "    }\n",
       "</style>\n",
       "<table border=\"1\" class=\"dataframe\">\n",
       "  <thead>\n",
       "    <tr style=\"text-align: right;\">\n",
       "      <th></th>\n",
       "      <th>App</th>\n",
       "      <th>Category</th>\n",
       "      <th>Rating</th>\n",
       "      <th>Reviews</th>\n",
       "      <th>Size</th>\n",
       "      <th>Installs</th>\n",
       "      <th>Type</th>\n",
       "      <th>Price</th>\n",
       "      <th>Content Rating</th>\n",
       "      <th>Genres</th>\n",
       "      <th>Last Updated</th>\n",
       "      <th>Current Ver</th>\n",
       "      <th>Android Ver</th>\n",
       "    </tr>\n",
       "  </thead>\n",
       "  <tbody>\n",
       "    <tr>\n",
       "      <th>0</th>\n",
       "      <td>Photo Editor &amp; Candy Camera &amp; Grid &amp; ScrapBook</td>\n",
       "      <td>ART_AND_DESIGN</td>\n",
       "      <td>4.1</td>\n",
       "      <td>159</td>\n",
       "      <td>19M</td>\n",
       "      <td>10,000+</td>\n",
       "      <td>Free</td>\n",
       "      <td>0.0</td>\n",
       "      <td>Everyone</td>\n",
       "      <td>Art &amp; Design</td>\n",
       "      <td>January 7, 2018</td>\n",
       "      <td>1.0.0</td>\n",
       "      <td>4.0.3 and up</td>\n",
       "    </tr>\n",
       "    <tr>\n",
       "      <th>1</th>\n",
       "      <td>Coloring book moana</td>\n",
       "      <td>ART_AND_DESIGN</td>\n",
       "      <td>3.9</td>\n",
       "      <td>967</td>\n",
       "      <td>14M</td>\n",
       "      <td>500,000+</td>\n",
       "      <td>Free</td>\n",
       "      <td>0.0</td>\n",
       "      <td>Everyone</td>\n",
       "      <td>Art &amp; Design;Pretend Play</td>\n",
       "      <td>January 15, 2018</td>\n",
       "      <td>2.0.0</td>\n",
       "      <td>4.0.3 and up</td>\n",
       "    </tr>\n",
       "    <tr>\n",
       "      <th>2</th>\n",
       "      <td>U Launcher Lite – FREE Live Cool Themes, Hide ...</td>\n",
       "      <td>ART_AND_DESIGN</td>\n",
       "      <td>4.7</td>\n",
       "      <td>87510</td>\n",
       "      <td>8.7M</td>\n",
       "      <td>5,000,000+</td>\n",
       "      <td>Free</td>\n",
       "      <td>0.0</td>\n",
       "      <td>Everyone</td>\n",
       "      <td>Art &amp; Design</td>\n",
       "      <td>August 1, 2018</td>\n",
       "      <td>1.2.4</td>\n",
       "      <td>4.0.3 and up</td>\n",
       "    </tr>\n",
       "    <tr>\n",
       "      <th>3</th>\n",
       "      <td>Sketch - Draw &amp; Paint</td>\n",
       "      <td>ART_AND_DESIGN</td>\n",
       "      <td>4.5</td>\n",
       "      <td>215644</td>\n",
       "      <td>25M</td>\n",
       "      <td>50,000,000+</td>\n",
       "      <td>Free</td>\n",
       "      <td>0.0</td>\n",
       "      <td>Teen</td>\n",
       "      <td>Art &amp; Design</td>\n",
       "      <td>June 8, 2018</td>\n",
       "      <td>Varies with device</td>\n",
       "      <td>4.2 and up</td>\n",
       "    </tr>\n",
       "    <tr>\n",
       "      <th>4</th>\n",
       "      <td>Pixel Draw - Number Art Coloring Book</td>\n",
       "      <td>ART_AND_DESIGN</td>\n",
       "      <td>4.3</td>\n",
       "      <td>967</td>\n",
       "      <td>2.8M</td>\n",
       "      <td>100,000+</td>\n",
       "      <td>Free</td>\n",
       "      <td>0.0</td>\n",
       "      <td>Everyone</td>\n",
       "      <td>Art &amp; Design;Creativity</td>\n",
       "      <td>June 20, 2018</td>\n",
       "      <td>1.1</td>\n",
       "      <td>4.4 and up</td>\n",
       "    </tr>\n",
       "    <tr>\n",
       "      <th>...</th>\n",
       "      <td>...</td>\n",
       "      <td>...</td>\n",
       "      <td>...</td>\n",
       "      <td>...</td>\n",
       "      <td>...</td>\n",
       "      <td>...</td>\n",
       "      <td>...</td>\n",
       "      <td>...</td>\n",
       "      <td>...</td>\n",
       "      <td>...</td>\n",
       "      <td>...</td>\n",
       "      <td>...</td>\n",
       "      <td>...</td>\n",
       "    </tr>\n",
       "    <tr>\n",
       "      <th>10836</th>\n",
       "      <td>Sya9a Maroc - FR</td>\n",
       "      <td>FAMILY</td>\n",
       "      <td>4.5</td>\n",
       "      <td>38</td>\n",
       "      <td>53M</td>\n",
       "      <td>5,000+</td>\n",
       "      <td>Free</td>\n",
       "      <td>0.0</td>\n",
       "      <td>Everyone</td>\n",
       "      <td>Education</td>\n",
       "      <td>July 25, 2017</td>\n",
       "      <td>1.48</td>\n",
       "      <td>4.1 and up</td>\n",
       "    </tr>\n",
       "    <tr>\n",
       "      <th>10837</th>\n",
       "      <td>Fr. Mike Schmitz Audio Teachings</td>\n",
       "      <td>FAMILY</td>\n",
       "      <td>5.0</td>\n",
       "      <td>4</td>\n",
       "      <td>3.6M</td>\n",
       "      <td>100+</td>\n",
       "      <td>Free</td>\n",
       "      <td>0.0</td>\n",
       "      <td>Everyone</td>\n",
       "      <td>Education</td>\n",
       "      <td>July 6, 2018</td>\n",
       "      <td>1.0</td>\n",
       "      <td>4.1 and up</td>\n",
       "    </tr>\n",
       "    <tr>\n",
       "      <th>10838</th>\n",
       "      <td>Parkinson Exercices FR</td>\n",
       "      <td>MEDICAL</td>\n",
       "      <td>NaN</td>\n",
       "      <td>3</td>\n",
       "      <td>9.5M</td>\n",
       "      <td>1,000+</td>\n",
       "      <td>Free</td>\n",
       "      <td>0.0</td>\n",
       "      <td>Everyone</td>\n",
       "      <td>Medical</td>\n",
       "      <td>January 20, 2017</td>\n",
       "      <td>1.0</td>\n",
       "      <td>2.2 and up</td>\n",
       "    </tr>\n",
       "    <tr>\n",
       "      <th>10839</th>\n",
       "      <td>The SCP Foundation DB fr nn5n</td>\n",
       "      <td>BOOKS_AND_REFERENCE</td>\n",
       "      <td>4.5</td>\n",
       "      <td>114</td>\n",
       "      <td>Varies with device</td>\n",
       "      <td>1,000+</td>\n",
       "      <td>Free</td>\n",
       "      <td>0.0</td>\n",
       "      <td>Mature 17+</td>\n",
       "      <td>Books &amp; Reference</td>\n",
       "      <td>January 19, 2015</td>\n",
       "      <td>Varies with device</td>\n",
       "      <td>Varies with device</td>\n",
       "    </tr>\n",
       "    <tr>\n",
       "      <th>10840</th>\n",
       "      <td>iHoroscope - 2018 Daily Horoscope &amp; Astrology</td>\n",
       "      <td>LIFESTYLE</td>\n",
       "      <td>4.5</td>\n",
       "      <td>398307</td>\n",
       "      <td>19M</td>\n",
       "      <td>10,000,000+</td>\n",
       "      <td>Free</td>\n",
       "      <td>0.0</td>\n",
       "      <td>Everyone</td>\n",
       "      <td>Lifestyle</td>\n",
       "      <td>July 25, 2018</td>\n",
       "      <td>Varies with device</td>\n",
       "      <td>Varies with device</td>\n",
       "    </tr>\n",
       "  </tbody>\n",
       "</table>\n",
       "<p>10840 rows × 13 columns</p>\n",
       "</div>"
      ],
      "text/plain": [
       "                                                     App             Category  \\\n",
       "0         Photo Editor & Candy Camera & Grid & ScrapBook       ART_AND_DESIGN   \n",
       "1                                    Coloring book moana       ART_AND_DESIGN   \n",
       "2      U Launcher Lite – FREE Live Cool Themes, Hide ...       ART_AND_DESIGN   \n",
       "3                                  Sketch - Draw & Paint       ART_AND_DESIGN   \n",
       "4                  Pixel Draw - Number Art Coloring Book       ART_AND_DESIGN   \n",
       "...                                                  ...                  ...   \n",
       "10836                                   Sya9a Maroc - FR               FAMILY   \n",
       "10837                   Fr. Mike Schmitz Audio Teachings               FAMILY   \n",
       "10838                             Parkinson Exercices FR              MEDICAL   \n",
       "10839                      The SCP Foundation DB fr nn5n  BOOKS_AND_REFERENCE   \n",
       "10840      iHoroscope - 2018 Daily Horoscope & Astrology            LIFESTYLE   \n",
       "\n",
       "       Rating Reviews                Size     Installs  Type  Price  \\\n",
       "0         4.1     159                 19M      10,000+  Free    0.0   \n",
       "1         3.9     967                 14M     500,000+  Free    0.0   \n",
       "2         4.7   87510                8.7M   5,000,000+  Free    0.0   \n",
       "3         4.5  215644                 25M  50,000,000+  Free    0.0   \n",
       "4         4.3     967                2.8M     100,000+  Free    0.0   \n",
       "...       ...     ...                 ...          ...   ...    ...   \n",
       "10836     4.5      38                 53M       5,000+  Free    0.0   \n",
       "10837     5.0       4                3.6M         100+  Free    0.0   \n",
       "10838     NaN       3                9.5M       1,000+  Free    0.0   \n",
       "10839     4.5     114  Varies with device       1,000+  Free    0.0   \n",
       "10840     4.5  398307                 19M  10,000,000+  Free    0.0   \n",
       "\n",
       "      Content Rating                     Genres      Last Updated  \\\n",
       "0           Everyone               Art & Design   January 7, 2018   \n",
       "1           Everyone  Art & Design;Pretend Play  January 15, 2018   \n",
       "2           Everyone               Art & Design    August 1, 2018   \n",
       "3               Teen               Art & Design      June 8, 2018   \n",
       "4           Everyone    Art & Design;Creativity     June 20, 2018   \n",
       "...              ...                        ...               ...   \n",
       "10836       Everyone                  Education     July 25, 2017   \n",
       "10837       Everyone                  Education      July 6, 2018   \n",
       "10838       Everyone                    Medical  January 20, 2017   \n",
       "10839     Mature 17+          Books & Reference  January 19, 2015   \n",
       "10840       Everyone                  Lifestyle     July 25, 2018   \n",
       "\n",
       "              Current Ver         Android Ver  \n",
       "0                   1.0.0        4.0.3 and up  \n",
       "1                   2.0.0        4.0.3 and up  \n",
       "2                   1.2.4        4.0.3 and up  \n",
       "3      Varies with device          4.2 and up  \n",
       "4                     1.1          4.4 and up  \n",
       "...                   ...                 ...  \n",
       "10836                1.48          4.1 and up  \n",
       "10837                 1.0          4.1 and up  \n",
       "10838                 1.0          2.2 and up  \n",
       "10839  Varies with device  Varies with device  \n",
       "10840  Varies with device  Varies with device  \n",
       "\n",
       "[10840 rows x 13 columns]"
      ]
     },
     "execution_count": 16,
     "metadata": {},
     "output_type": "execute_result"
    }
   ],
   "source": [
    "df"
   ]
  },
  {
   "cell_type": "code",
   "execution_count": null,
   "metadata": {},
   "outputs": [],
   "source": []
  },
  {
   "cell_type": "markdown",
   "metadata": {},
   "source": [
    "#### Size "
   ]
  },
  {
   "cell_type": "code",
   "execution_count": 17,
   "metadata": {
    "scrolled": true
   },
   "outputs": [
    {
     "data": {
      "text/plain": [
       "(array(['1.0M', '1.1M', '1.2M', '1.3M', '1.4M', '1.5M', '1.6M', '1.7M',\n",
       "        '1.8M', '1.9M', '10.0M', '100M', '1020k', '103k', '108k', '10M',\n",
       "        '116k', '118k', '11M', '11k', '121k', '122k', '12M', '13M', '141k',\n",
       "        '143k', '144k', '14M', '14k', '153k', '154k', '157k', '15M',\n",
       "        '160k', '161k', '164k', '169k', '16M', '170k', '172k', '173k',\n",
       "        '175k', '176k', '17M', '17k', '186k', '18M', '18k', '190k', '191k',\n",
       "        '192k', '193k', '196k', '19M', '2.0M', '2.1M', '2.2M', '2.3M',\n",
       "        '2.4M', '2.5M', '2.6M', '2.7M', '2.8M', '2.9M', '200k', '201k',\n",
       "        '203k', '206k', '208k', '209k', '20M', '20k', '210k', '219k',\n",
       "        '21M', '220k', '221k', '222k', '226k', '228k', '22M', '232k',\n",
       "        '234k', '237k', '238k', '239k', '23M', '23k', '240k', '241k',\n",
       "        '243k', '245k', '246k', '24M', '24k', '251k', '253k', '257k',\n",
       "        '259k', '25M', '25k', '266k', '269k', '26M', '26k', '270k', '27M',\n",
       "        '27k', '280k', '283k', '288k', '28M', '28k', '292k', '293k', '29M',\n",
       "        '29k', '3.0M', '3.1M', '3.2M', '3.3M', '3.4M', '3.5M', '3.6M',\n",
       "        '3.7M', '3.8M', '3.9M', '306k', '308k', '309k', '30M', '313k',\n",
       "        '314k', '317k', '318k', '319k', '31M', '322k', '323k', '329k',\n",
       "        '32M', '334k', '335k', '33M', '33k', '34M', '34k', '350k', '351k',\n",
       "        '353k', '35M', '364k', '36M', '371k', '373k', '375k', '376k',\n",
       "        '378k', '37M', '383k', '387k', '38M', '39M', '39k', '4.0M', '4.1M',\n",
       "        '4.2M', '4.3M', '4.4M', '4.5M', '4.6M', '4.7M', '4.8M', '4.9M',\n",
       "        '400k', '404k', '40M', '411k', '412k', '414k', '417k', '41M',\n",
       "        '41k', '420k', '421k', '429k', '42M', '430k', '437k', '43M',\n",
       "        '442k', '444k', '44M', '44k', '454k', '458k', '459k', '45M', '45k',\n",
       "        '460k', '467k', '46M', '470k', '473k', '475k', '478k', '47M',\n",
       "        '485k', '48M', '48k', '496k', '498k', '499k', '49M', '5.0M',\n",
       "        '5.1M', '5.2M', '5.3M', '5.4M', '5.5M', '5.6M', '5.7M', '5.8M',\n",
       "        '5.9M', '500k', '506k', '50M', '50k', '511k', '514k', '516k',\n",
       "        '518k', '51M', '51k', '523k', '525k', '526k', '52M', '53M', '540k',\n",
       "        '544k', '545k', '549k', '54M', '54k', '551k', '552k', '554k',\n",
       "        '556k', '55M', '55k', '562k', '569k', '56M', '57M', '582k', '585k',\n",
       "        '58M', '58k', '592k', '597k', '598k', '59M', '6.0M', '6.1M',\n",
       "        '6.2M', '6.3M', '6.4M', '6.5M', '6.6M', '6.7M', '6.8M', '6.9M',\n",
       "        '600k', '601k', '608k', '609k', '60M', '613k', '619k', '61M',\n",
       "        '61k', '624k', '626k', '629k', '62M', '636k', '63M', '642k',\n",
       "        '643k', '647k', '64M', '655k', '656k', '658k', '65M', '663k',\n",
       "        '66M', '676k', '67M', '67k', '683k', '688k', '68M', '691k', '695k',\n",
       "        '696k', '69M', '7.0M', '7.1M', '7.2M', '7.3M', '7.4M', '7.5M',\n",
       "        '7.6M', '7.7M', '7.8M', '7.9M', '704k', '705k', '70M', '70k',\n",
       "        '713k', '714k', '716k', '717k', '71M', '720k', '721k', '728k',\n",
       "        '72M', '72k', '730k', '73M', '73k', '743k', '746k', '749k', '74M',\n",
       "        '74k', '754k', '756k', '75M', '76M', '772k', '775k', '778k',\n",
       "        '779k', '77M', '780k', '782k', '784k', '785k', '787k', '78M',\n",
       "        '78k', '79M', '79k', '8.0M', '8.1M', '8.2M', '8.3M', '8.4M',\n",
       "        '8.5M', '8.5k', '8.6M', '8.7M', '8.8M', '8.9M', '801k', '809k',\n",
       "        '80M', '811k', '812k', '816k', '818k', '81M', '81k', '82M', '82k',\n",
       "        '837k', '83M', '840k', '842k', '847k', '84M', '853k', '857k',\n",
       "        '85M', '860k', '861k', '862k', '865k', '86M', '872k', '874k',\n",
       "        '879k', '87M', '881k', '885k', '887k', '88M', '892k', '898k',\n",
       "        '899k', '89M', '89k', '9.0M', '9.1M', '9.2M', '9.3M', '9.4M',\n",
       "        '9.5M', '9.6M', '9.7M', '9.8M', '9.9M', '902k', '903k', '904k',\n",
       "        '90M', '913k', '914k', '916k', '91M', '91k', '920k', '921k',\n",
       "        '924k', '92M', '930k', '939k', '93M', '93k', '940k', '942k',\n",
       "        '948k', '94M', '951k', '953k', '954k', '957k', '95M', '961k',\n",
       "        '963k', '965k', '96M', '970k', '975k', '976k', '97M', '97k',\n",
       "        '980k', '981k', '982k', '986k', '98M', '992k', '994k', '99M',\n",
       "        'Varies with device'], dtype=object),\n",
       " array([   7,   32,   41,   35,   37,   48,   39,   40,   50,   32,   10,\n",
       "          16,    1,    1,    1,  136,    1,    3,  198,    1,    1,    1,\n",
       "         196,  191,    2,    1,    1,  194,    1,    1,    1,    1,  184,\n",
       "           1,    1,    1,    1,  149,    1,    2,    1,    1,    1,  160,\n",
       "           2,    1,  133,    2,    1,    1,    2,    1,    2,  154,   51,\n",
       "          40,   45,   68,   48,   68,   50,   53,   65,   69,    1,    3,\n",
       "           1,    2,    1,    1,  139,    1,    1,    1,  138,    1,    1,\n",
       "           1,    1,    2,  114,    1,    1,    1,    1,    1,  117,    1,\n",
       "           1,    1,    1,    1,    1,  136,    1,    1,    1,    1,    1,\n",
       "         143,    1,    3,    1,  149,    2,    1,   97,    1,    1,    1,\n",
       "           1,   95,    1,    1,    1,  103,    2,   61,   56,   55,   77,\n",
       "          65,   51,   57,   63,   62,   62,    1,    1,    1,   84,    1,\n",
       "           1,    1,    2,    1,   70,    1,    2,    1,   63,    2,    2,\n",
       "          79,    2,   63,    1,    1,    1,    1,   72,    2,   60,    1,\n",
       "           1,    3,    1,    1,   76,    1,    1,   55,   56,    1,   61,\n",
       "          52,   59,   54,   42,   40,   46,   36,   34,   50,    1,    1,\n",
       "          62,    1,    1,    1,    2,   48,    1,    1,    1,    1,   41,\n",
       "           1,    1,   47,    1,    1,   61,    1,    1,    1,    1,   40,\n",
       "           1,    1,    1,   59,    1,    2,    1,    1,   37,    1,   59,\n",
       "           1,    1,    1,    1,   45,   58,   43,   35,   44,   51,   33,\n",
       "          31,   48,   35,   37,    1,    1,   44,    1,    1,    1,    1,\n",
       "           1,   33,    2,    1,    1,    1,   35,   43,    1,    1,    1,\n",
       "           1,   29,    1,    1,    1,    1,    1,   30,    1,    1,    1,\n",
       "          31,   37,    1,    1,   26,    2,    2,    1,    1,   38,   34,\n",
       "          39,   30,   45,   29,   34,   33,   25,   28,   40,    1,    1,\n",
       "           1,    1,   36,    1,    1,   26,    1,    1,    1,    1,   32,\n",
       "           1,   41,    1,    1,    1,   15,    1,    2,    1,   10,    1,\n",
       "          16,    1,   32,    1,    1,    1,   18,    1,    1,    1,   23,\n",
       "          33,   26,   30,   37,   28,   28,   29,   26,   29,   33,    2,\n",
       "           1,   27,    2,    1,    1,    1,    1,   14,    1,    1,    1,\n",
       "          19,    2,    1,   15,    1,    1,    1,    1,   20,    1,    1,\n",
       "           1,   13,   27,    1,    1,    1,    1,   13,    1,    1,    1,\n",
       "           1,    1,   23,    1,   11,    3,   23,   27,   28,   30,   30,\n",
       "          36,    1,   25,   39,   27,   28,    1,    1,   13,    1,    1,\n",
       "           1,    1,   11,    1,   21,    1,    1,   15,    1,    2,    1,\n",
       "           9,    1,    1,   17,    1,    1,    1,    1,    8,    1,    1,\n",
       "           1,   13,    1,    1,    1,   14,    1,    1,    1,    9,    1,\n",
       "          27,   29,   33,   15,   24,   28,   15,   24,   30,   28,    1,\n",
       "           1,    1,    6,    1,    1,    1,   22,    1,    1,    1,    1,\n",
       "          15,    1,    1,   16,    1,    1,    1,    2,   17,    1,    1,\n",
       "           1,    2,   18,    1,    1,    1,   26,    1,    1,    1,   20,\n",
       "           1,    1,    1,    1,    1,   16,    1,    1,   39, 1695],\n",
       "       dtype=int64))"
      ]
     },
     "execution_count": 17,
     "metadata": {},
     "output_type": "execute_result"
    }
   ],
   "source": [
    "np.unique(df['Size'], return_counts=True)"
   ]
  },
  {
   "cell_type": "markdown",
   "metadata": {},
   "source": [
    "Aqui nós temos uma decisão mais complicada, porque a mior parte dos nossos dados está com o tamanho variado por dispositivo. É muito difícil sabermos se isso é um fator descritivo para o que desejamos fazer depois. Nós poderíamos também trocar isso por um número coringa que não está presente no dataset. Outra possibilidade seria categorizarmos todas as variáveis, afinal podemos ver espaços de tamanhos bem definidos. O fato de um aplicativo estar na casa dos KBs e outro nos MBs é mais categórico em vez de constante, provavelmente o tamanho do arquivo exato não irá fazer diferença mas sim o fato de ele ser considerado pesado ou não."
   ]
  },
  {
   "cell_type": "markdown",
   "metadata": {},
   "source": [
    "O problema é que isso ainda não resolve a qeustão do tamanho variar de acordo com o sistema para o qual ela foi portada. O ideal seria que os dados já tivessem sido catalogados pensando nisso. Essa coluna infelizmente é difícil de resolver e talvez a opção mais viável seria excluir 1695 registro e categorizar os outros em Leve, Médio e Pesado."
   ]
  },
  {
   "cell_type": "markdown",
   "metadata": {},
   "source": [
    "Irei optar por deixar esses dados parados até a aplicação de um modelo mias concreto."
   ]
  },
  {
   "cell_type": "markdown",
   "metadata": {},
   "source": [
    "#### Installs"
   ]
  },
  {
   "cell_type": "code",
   "execution_count": 18,
   "metadata": {
    "scrolled": true
   },
   "outputs": [
    {
     "data": {
      "text/plain": [
       "(array(['0', '0+', '1+', '1,000+', '1,000,000+', '1,000,000,000+', '10+',\n",
       "        '10,000+', '10,000,000+', '100+', '100,000+', '100,000,000+', '5+',\n",
       "        '5,000+', '5,000,000+', '50+', '50,000+', '50,000,000+', '500+',\n",
       "        '500,000+', '500,000,000+'], dtype=object),\n",
       " array([   1,   14,   67,  907, 1579,   58,  386, 1054, 1252,  719, 1169,\n",
       "         409,   82,  477,  752,  205,  479,  289,  330,  539,   72],\n",
       "       dtype=int64))"
      ]
     },
     "execution_count": 18,
     "metadata": {},
     "output_type": "execute_result"
    }
   ],
   "source": [
    "np.unique(df['Installs'], return_counts=True)"
   ]
  },
  {
   "cell_type": "markdown",
   "metadata": {},
   "source": [
    "Esse pode ser convertido facilmente! Um detalhe que ficou bem claro agora é que esses dados já estão em maneira categória, porém algumas das categorias não são expressivas. Ter uma categorias 0, 0+, 1+, 10+, 5+ não parece muito relevante. Vou optar por dividir em categorias 0-50 (aplicações com possível prejuizo), 50-100(aplicações que não tiveram muito lucro, mas se forem feitas por desenvolvedores pequenos provavelmente se pagaram) e as outras deixarei exatamente igual. Não irei substituir o +, para deixar claro que são variáveis categóricas.\n"
   ]
  },
  {
   "cell_type": "markdown",
   "metadata": {},
   "source": [
    "O principal problema no tratamento desses dados é o mal uso dos separados decimais, mas a verdade é que não precisamos nos importar com isso. Os únicos dados que iremos mexer não possuem , . Mas só para melhorar esse tratamento irei substituir os dados pelos números devidos."
   ]
  },
  {
   "cell_type": "code",
   "execution_count": 19,
   "metadata": {},
   "outputs": [],
   "source": [
    "def eliminating_some_categories_on_installs(current_value): \n",
    "    current_value = current_value.replace('000,000', '000000')\n",
    "    current_value = current_value.replace(',', '.')\n",
    "    if(re.search('\\d+\\.', current_value)): return current_value\n",
    "    if(int(re.search('\\d+', current_value)[0]) < 50): \n",
    "        return \"0+\"\n",
    "    return current_value"
   ]
  },
  {
   "cell_type": "code",
   "execution_count": 20,
   "metadata": {
    "scrolled": true
   },
   "outputs": [
    {
     "data": {
      "text/plain": [
       "(array(['0+', '1.000+', '1.000000+', '1.000000.000+', '10.000+',\n",
       "        '10.000000+', '100+', '100.000+', '100.000000+', '5.000+',\n",
       "        '5.000000+', '50+', '50.000+', '50.000000+', '500+', '500.000+',\n",
       "        '500.000000+'], dtype=object),\n",
       " array([ 550,  907, 1579,   58, 1054, 1252,  719, 1169,  409,  477,  752,\n",
       "         205,  479,  289,  330,  539,   72], dtype=int64))"
      ]
     },
     "execution_count": 20,
     "metadata": {},
     "output_type": "execute_result"
    }
   ],
   "source": [
    " np.unique(df['Installs'].apply(eliminating_some_categories_on_installs), return_counts=True)"
   ]
  },
  {
   "cell_type": "code",
   "execution_count": 21,
   "metadata": {},
   "outputs": [],
   "source": [
    "df['Installs'] = df['Installs'].apply(eliminating_some_categories_on_installs)"
   ]
  },
  {
   "cell_type": "markdown",
   "metadata": {},
   "source": [
    "## Finishing the work"
   ]
  },
  {
   "cell_type": "markdown",
   "metadata": {},
   "source": [
    "Agora que tratamos todas as incosistências, falta algo muito importante: Lidar com os dados nulos.\n",
    "\n",
    "Acontece que a mior parte deles está no nosso parâmetro mais importante, inclusive nosso provável target: O rating"
   ]
  },
  {
   "cell_type": "code",
   "execution_count": 22,
   "metadata": {
    "scrolled": true
   },
   "outputs": [
    {
     "data": {
      "text/html": [
       "<div>\n",
       "<style scoped>\n",
       "    .dataframe tbody tr th:only-of-type {\n",
       "        vertical-align: middle;\n",
       "    }\n",
       "\n",
       "    .dataframe tbody tr th {\n",
       "        vertical-align: top;\n",
       "    }\n",
       "\n",
       "    .dataframe thead th {\n",
       "        text-align: right;\n",
       "    }\n",
       "</style>\n",
       "<table border=\"1\" class=\"dataframe\">\n",
       "  <thead>\n",
       "    <tr style=\"text-align: right;\">\n",
       "      <th></th>\n",
       "      <th>App</th>\n",
       "      <th>Category</th>\n",
       "      <th>Rating</th>\n",
       "      <th>Reviews</th>\n",
       "      <th>Size</th>\n",
       "      <th>Installs</th>\n",
       "      <th>Type</th>\n",
       "      <th>Price</th>\n",
       "      <th>Content Rating</th>\n",
       "      <th>Genres</th>\n",
       "      <th>Last Updated</th>\n",
       "      <th>Current Ver</th>\n",
       "      <th>Android Ver</th>\n",
       "    </tr>\n",
       "  </thead>\n",
       "  <tbody>\n",
       "    <tr>\n",
       "      <th>23</th>\n",
       "      <td>Mcqueen Coloring pages</td>\n",
       "      <td>ART_AND_DESIGN</td>\n",
       "      <td>NaN</td>\n",
       "      <td>61</td>\n",
       "      <td>7.0M</td>\n",
       "      <td>100.000+</td>\n",
       "      <td>Free</td>\n",
       "      <td>0.0</td>\n",
       "      <td>Everyone</td>\n",
       "      <td>Art &amp; Design;Action &amp; Adventure</td>\n",
       "      <td>March 7, 2018</td>\n",
       "      <td>1.0.0</td>\n",
       "      <td>4.1 and up</td>\n",
       "    </tr>\n",
       "    <tr>\n",
       "      <th>113</th>\n",
       "      <td>Wrinkles and rejuvenation</td>\n",
       "      <td>BEAUTY</td>\n",
       "      <td>NaN</td>\n",
       "      <td>182</td>\n",
       "      <td>5.7M</td>\n",
       "      <td>100.000+</td>\n",
       "      <td>Free</td>\n",
       "      <td>0.0</td>\n",
       "      <td>Everyone 10+</td>\n",
       "      <td>Beauty</td>\n",
       "      <td>September 20, 2017</td>\n",
       "      <td>8.0</td>\n",
       "      <td>3.0 and up</td>\n",
       "    </tr>\n",
       "    <tr>\n",
       "      <th>123</th>\n",
       "      <td>Manicure - nail design</td>\n",
       "      <td>BEAUTY</td>\n",
       "      <td>NaN</td>\n",
       "      <td>119</td>\n",
       "      <td>3.7M</td>\n",
       "      <td>50.000+</td>\n",
       "      <td>Free</td>\n",
       "      <td>0.0</td>\n",
       "      <td>Everyone</td>\n",
       "      <td>Beauty</td>\n",
       "      <td>July 23, 2018</td>\n",
       "      <td>1.3</td>\n",
       "      <td>4.1 and up</td>\n",
       "    </tr>\n",
       "    <tr>\n",
       "      <th>126</th>\n",
       "      <td>Skin Care and Natural Beauty</td>\n",
       "      <td>BEAUTY</td>\n",
       "      <td>NaN</td>\n",
       "      <td>654</td>\n",
       "      <td>7.4M</td>\n",
       "      <td>100.000+</td>\n",
       "      <td>Free</td>\n",
       "      <td>0.0</td>\n",
       "      <td>Teen</td>\n",
       "      <td>Beauty</td>\n",
       "      <td>July 17, 2018</td>\n",
       "      <td>1.15</td>\n",
       "      <td>4.1 and up</td>\n",
       "    </tr>\n",
       "    <tr>\n",
       "      <th>129</th>\n",
       "      <td>Secrets of beauty, youth and health</td>\n",
       "      <td>BEAUTY</td>\n",
       "      <td>NaN</td>\n",
       "      <td>77</td>\n",
       "      <td>2.9M</td>\n",
       "      <td>10.000+</td>\n",
       "      <td>Free</td>\n",
       "      <td>0.0</td>\n",
       "      <td>Mature 17+</td>\n",
       "      <td>Beauty</td>\n",
       "      <td>August 8, 2017</td>\n",
       "      <td>2.0</td>\n",
       "      <td>2.3 and up</td>\n",
       "    </tr>\n",
       "    <tr>\n",
       "      <th>...</th>\n",
       "      <td>...</td>\n",
       "      <td>...</td>\n",
       "      <td>...</td>\n",
       "      <td>...</td>\n",
       "      <td>...</td>\n",
       "      <td>...</td>\n",
       "      <td>...</td>\n",
       "      <td>...</td>\n",
       "      <td>...</td>\n",
       "      <td>...</td>\n",
       "      <td>...</td>\n",
       "      <td>...</td>\n",
       "      <td>...</td>\n",
       "    </tr>\n",
       "    <tr>\n",
       "      <th>10824</th>\n",
       "      <td>Cardio-FR</td>\n",
       "      <td>MEDICAL</td>\n",
       "      <td>NaN</td>\n",
       "      <td>67</td>\n",
       "      <td>82M</td>\n",
       "      <td>10.000+</td>\n",
       "      <td>Free</td>\n",
       "      <td>0.0</td>\n",
       "      <td>Everyone</td>\n",
       "      <td>Medical</td>\n",
       "      <td>July 31, 2018</td>\n",
       "      <td>2.2.2</td>\n",
       "      <td>4.4 and up</td>\n",
       "    </tr>\n",
       "    <tr>\n",
       "      <th>10825</th>\n",
       "      <td>Naruto &amp; Boruto FR</td>\n",
       "      <td>SOCIAL</td>\n",
       "      <td>NaN</td>\n",
       "      <td>7</td>\n",
       "      <td>7.7M</td>\n",
       "      <td>100+</td>\n",
       "      <td>Free</td>\n",
       "      <td>0.0</td>\n",
       "      <td>Teen</td>\n",
       "      <td>Social</td>\n",
       "      <td>February 2, 2018</td>\n",
       "      <td>1.0</td>\n",
       "      <td>4.0 and up</td>\n",
       "    </tr>\n",
       "    <tr>\n",
       "      <th>10831</th>\n",
       "      <td>payermonstationnement.fr</td>\n",
       "      <td>MAPS_AND_NAVIGATION</td>\n",
       "      <td>NaN</td>\n",
       "      <td>38</td>\n",
       "      <td>9.8M</td>\n",
       "      <td>5.000+</td>\n",
       "      <td>Free</td>\n",
       "      <td>0.0</td>\n",
       "      <td>Everyone</td>\n",
       "      <td>Maps &amp; Navigation</td>\n",
       "      <td>June 13, 2018</td>\n",
       "      <td>2.0.148.0</td>\n",
       "      <td>4.0 and up</td>\n",
       "    </tr>\n",
       "    <tr>\n",
       "      <th>10835</th>\n",
       "      <td>FR Forms</td>\n",
       "      <td>BUSINESS</td>\n",
       "      <td>NaN</td>\n",
       "      <td>0</td>\n",
       "      <td>9.6M</td>\n",
       "      <td>0+</td>\n",
       "      <td>Free</td>\n",
       "      <td>0.0</td>\n",
       "      <td>Everyone</td>\n",
       "      <td>Business</td>\n",
       "      <td>September 29, 2016</td>\n",
       "      <td>1.1.5</td>\n",
       "      <td>4.0 and up</td>\n",
       "    </tr>\n",
       "    <tr>\n",
       "      <th>10838</th>\n",
       "      <td>Parkinson Exercices FR</td>\n",
       "      <td>MEDICAL</td>\n",
       "      <td>NaN</td>\n",
       "      <td>3</td>\n",
       "      <td>9.5M</td>\n",
       "      <td>1.000+</td>\n",
       "      <td>Free</td>\n",
       "      <td>0.0</td>\n",
       "      <td>Everyone</td>\n",
       "      <td>Medical</td>\n",
       "      <td>January 20, 2017</td>\n",
       "      <td>1.0</td>\n",
       "      <td>2.2 and up</td>\n",
       "    </tr>\n",
       "  </tbody>\n",
       "</table>\n",
       "<p>1474 rows × 13 columns</p>\n",
       "</div>"
      ],
      "text/plain": [
       "                                       App             Category  Rating  \\\n",
       "23                  Mcqueen Coloring pages       ART_AND_DESIGN     NaN   \n",
       "113              Wrinkles and rejuvenation               BEAUTY     NaN   \n",
       "123                 Manicure - nail design               BEAUTY     NaN   \n",
       "126           Skin Care and Natural Beauty               BEAUTY     NaN   \n",
       "129    Secrets of beauty, youth and health               BEAUTY     NaN   \n",
       "...                                    ...                  ...     ...   \n",
       "10824                            Cardio-FR              MEDICAL     NaN   \n",
       "10825                   Naruto & Boruto FR               SOCIAL     NaN   \n",
       "10831             payermonstationnement.fr  MAPS_AND_NAVIGATION     NaN   \n",
       "10835                             FR Forms             BUSINESS     NaN   \n",
       "10838               Parkinson Exercices FR              MEDICAL     NaN   \n",
       "\n",
       "      Reviews  Size  Installs  Type  Price Content Rating  \\\n",
       "23         61  7.0M  100.000+  Free    0.0       Everyone   \n",
       "113       182  5.7M  100.000+  Free    0.0   Everyone 10+   \n",
       "123       119  3.7M   50.000+  Free    0.0       Everyone   \n",
       "126       654  7.4M  100.000+  Free    0.0           Teen   \n",
       "129        77  2.9M   10.000+  Free    0.0     Mature 17+   \n",
       "...       ...   ...       ...   ...    ...            ...   \n",
       "10824      67   82M   10.000+  Free    0.0       Everyone   \n",
       "10825       7  7.7M      100+  Free    0.0           Teen   \n",
       "10831      38  9.8M    5.000+  Free    0.0       Everyone   \n",
       "10835       0  9.6M        0+  Free    0.0       Everyone   \n",
       "10838       3  9.5M    1.000+  Free    0.0       Everyone   \n",
       "\n",
       "                                Genres        Last Updated Current Ver  \\\n",
       "23     Art & Design;Action & Adventure       March 7, 2018       1.0.0   \n",
       "113                             Beauty  September 20, 2017         8.0   \n",
       "123                             Beauty       July 23, 2018         1.3   \n",
       "126                             Beauty       July 17, 2018        1.15   \n",
       "129                             Beauty      August 8, 2017         2.0   \n",
       "...                                ...                 ...         ...   \n",
       "10824                          Medical       July 31, 2018       2.2.2   \n",
       "10825                           Social    February 2, 2018         1.0   \n",
       "10831                Maps & Navigation       June 13, 2018   2.0.148.0   \n",
       "10835                         Business  September 29, 2016       1.1.5   \n",
       "10838                          Medical    January 20, 2017         1.0   \n",
       "\n",
       "      Android Ver  \n",
       "23     4.1 and up  \n",
       "113    3.0 and up  \n",
       "123    4.1 and up  \n",
       "126    4.1 and up  \n",
       "129    2.3 and up  \n",
       "...           ...  \n",
       "10824  4.4 and up  \n",
       "10825  4.0 and up  \n",
       "10831  4.0 and up  \n",
       "10835  4.0 and up  \n",
       "10838  2.2 and up  \n",
       "\n",
       "[1474 rows x 13 columns]"
      ]
     },
     "execution_count": 22,
     "metadata": {},
     "output_type": "execute_result"
    }
   ],
   "source": [
    "df[df['Rating'].isnull()]"
   ]
  },
  {
   "cell_type": "markdown",
   "metadata": {},
   "source": [
    "Esses dados, por mais que sejam muitos, simplesmente não podem ser utilizados sem enviesar o banco e portanto teremos de remover todos. Nós até poderíamos substituir os outros valores nulos, mas eles são tão poucos não vale o trabalho. Até porque substituir uma versão também seria muito complicado. Então para finalizar o dataset eu decidi simplesmente eliminar todos os nulos."
   ]
  },
  {
   "cell_type": "code",
   "execution_count": 23,
   "metadata": {},
   "outputs": [],
   "source": [
    "df.dropna(inplace=True)"
   ]
  },
  {
   "cell_type": "code",
   "execution_count": 24,
   "metadata": {},
   "outputs": [],
   "source": [
    "def save_dataset(df, path):\n",
    "    directories = path.split('/')\n",
    "    file_name = directories[-1]\n",
    "    directories = directories[0:-1]\n",
    "    \n",
    "    for path in directories:\n",
    "        if not os.path.exists(path):\n",
    "            os.mkdir(path)\n",
    "        os.chdir(path)\n",
    "    \n",
    "    df.to_csv(file_name)"
   ]
  },
  {
   "cell_type": "code",
   "execution_count": 25,
   "metadata": {
    "scrolled": true
   },
   "outputs": [
    {
     "name": "stdout",
     "output_type": "stream",
     "text": [
      "Data\n",
      "Modified\n"
     ]
    }
   ],
   "source": [
    "save_dataset(df, \"Modified/GooglePlayTreatedData.csv\")"
   ]
  },
  {
   "cell_type": "markdown",
   "metadata": {},
   "source": [
    "# Designing Transforms"
   ]
  },
  {
   "cell_type": "markdown",
   "metadata": {},
   "source": [
    "Uma boa forma de fazer isso seria com classes auxiliares:"
   ]
  },
  {
   "cell_type": "code",
   "execution_count": 26,
   "metadata": {},
   "outputs": [],
   "source": [
    "class data_cleaner:\n",
    "    def __init__(self, df : pd.DataFrame):\n",
    "        self.df = df\n",
    "        self.cbs = []\n",
    "            \n",
    "    def compose_callback(self, cb : Callable[[pd.DataFrame], pd.DataFrame]):\n",
    "        self.cbs.append(cb)\n",
    "        \n",
    "    def remove_callback(self, cb : Callable[[pd.DataFrame], pd.DataFrame]):\n",
    "        self.cbs.remove(cb)\n",
    "        \n",
    "    def __call__(self):\n",
    "        transformed_df = self.df\n",
    "        for cb in self.cbs:\n",
    "            trasnformed_df = cb(transformed_df)\n",
    "            \n",
    "        return transformed_df\n",
    "    "
   ]
  },
  {
   "cell_type": "code",
   "execution_count": 27,
   "metadata": {},
   "outputs": [],
   "source": [
    "dc = data_cleaner(df)"
   ]
  },
  {
   "cell_type": "code",
   "execution_count": 28,
   "metadata": {},
   "outputs": [],
   "source": [
    "def cleaner_callback_template(columns, transformation, df):\n",
    "    for colum in columns:\n",
    "        df[colum] = transformation(df[colum])\n",
    "    return df"
   ]
  },
  {
   "cell_type": "code",
   "execution_count": null,
   "metadata": {},
   "outputs": [],
   "source": []
  }
 ],
 "metadata": {
  "kernelspec": {
   "display_name": "Python 3",
   "language": "python",
   "name": "python3"
  },
  "language_info": {
   "codemirror_mode": {
    "name": "ipython",
    "version": 3
   },
   "file_extension": ".py",
   "mimetype": "text/x-python",
   "name": "python",
   "nbconvert_exporter": "python",
   "pygments_lexer": "ipython3",
   "version": "3.6.7"
  }
 },
 "nbformat": 4,
 "nbformat_minor": 2
}
